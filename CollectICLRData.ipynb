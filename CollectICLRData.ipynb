{
 "cells": [
  {
   "cell_type": "code",
   "execution_count": null,
   "id": "7b528f8f",
   "metadata": {},
   "outputs": [],
   "source": [
    "# Step 1, figure out how to download the list of papers for ICLR 2018.\n",
    "# Step 2, get the keywords for those papers\n",
    "# Step 3, get the authors for those papers\n",
    "# Step 4, make a dict mapping authors to keywords (and likewise for papers)\n",
    "\n",
    "# Largely following the notebook shared here: https://www.reddit.com/r/MachineLearning/comments/eyfhtc/d_openreviewnet_scraper_for_reviews/"
   ]
  },
  {
   "cell_type": "code",
   "execution_count": 1,
   "id": "dccc7d1c",
   "metadata": {},
   "outputs": [
    {
     "name": "stdout",
     "output_type": "stream",
     "text": [
      "Requirement already satisfied: openreview-py in c:\\users\\justin payan\\anaconda3\\lib\\site-packages (1.13.0)\n",
      "Requirement already satisfied: pandas in c:\\users\\justin payan\\anaconda3\\lib\\site-packages (1.4.4)\n",
      "Requirement already satisfied: matplotlib in c:\\users\\justin payan\\anaconda3\\lib\\site-packages (3.5.2)\n",
      "Requirement already satisfied: seaborn in c:\\users\\justin payan\\anaconda3\\lib\\site-packages (0.11.2)\n",
      "Requirement already satisfied: tld>=0.12 in c:\\users\\justin payan\\anaconda3\\lib\\site-packages (from openreview-py) (0.12.6)\n",
      "Requirement already satisfied: setuptools==49.6.0 in c:\\users\\justin payan\\anaconda3\\lib\\site-packages (from openreview-py) (49.6.0)\n",
      "Requirement already satisfied: requests>=2.18.4 in c:\\users\\justin payan\\anaconda3\\lib\\site-packages (from openreview-py) (2.28.1)\n",
      "Requirement already satisfied: tqdm in c:\\users\\justin payan\\anaconda3\\lib\\site-packages (from openreview-py) (4.64.1)\n",
      "Requirement already satisfied: Deprecated in c:\\users\\justin payan\\anaconda3\\lib\\site-packages (from openreview-py) (1.2.13)\n",
      "Requirement already satisfied: pycryptodome in c:\\users\\justin payan\\anaconda3\\lib\\site-packages (from openreview-py) (3.16.0)\n",
      "Requirement already satisfied: pyjwt in c:\\users\\justin payan\\anaconda3\\lib\\site-packages (from openreview-py) (2.4.0)\n",
      "Requirement already satisfied: pylatexenc in c:\\users\\justin payan\\anaconda3\\lib\\site-packages (from openreview-py) (2.10)\n",
      "Requirement already satisfied: future in c:\\users\\justin payan\\anaconda3\\lib\\site-packages (from openreview-py) (0.18.2)\n",
      "Requirement already satisfied: numpy>=1.18.5 in c:\\users\\justin payan\\anaconda3\\lib\\site-packages (from pandas) (1.21.5)\n",
      "Requirement already satisfied: pytz>=2020.1 in c:\\users\\justin payan\\anaconda3\\lib\\site-packages (from pandas) (2022.1)\n",
      "Requirement already satisfied: python-dateutil>=2.8.1 in c:\\users\\justin payan\\anaconda3\\lib\\site-packages (from pandas) (2.8.2)\n",
      "Requirement already satisfied: packaging>=20.0 in c:\\users\\justin payan\\anaconda3\\lib\\site-packages (from matplotlib) (21.3)\n",
      "Requirement already satisfied: fonttools>=4.22.0 in c:\\users\\justin payan\\anaconda3\\lib\\site-packages (from matplotlib) (4.25.0)\n",
      "Requirement already satisfied: cycler>=0.10 in c:\\users\\justin payan\\anaconda3\\lib\\site-packages (from matplotlib) (0.11.0)\n",
      "Requirement already satisfied: pyparsing>=2.2.1 in c:\\users\\justin payan\\anaconda3\\lib\\site-packages (from matplotlib) (3.0.9)\n",
      "Requirement already satisfied: kiwisolver>=1.0.1 in c:\\users\\justin payan\\anaconda3\\lib\\site-packages (from matplotlib) (1.4.2)\n",
      "Requirement already satisfied: pillow>=6.2.0 in c:\\users\\justin payan\\anaconda3\\lib\\site-packages (from matplotlib) (9.2.0)\n",
      "Requirement already satisfied: scipy>=1.0 in c:\\users\\justin payan\\anaconda3\\lib\\site-packages (from seaborn) (1.9.1)\n",
      "Requirement already satisfied: six>=1.5 in c:\\users\\justin payan\\anaconda3\\lib\\site-packages (from python-dateutil>=2.8.1->pandas) (1.16.0)\n",
      "Requirement already satisfied: charset-normalizer<3,>=2 in c:\\users\\justin payan\\anaconda3\\lib\\site-packages (from requests>=2.18.4->openreview-py) (2.0.4)\n",
      "Requirement already satisfied: urllib3<1.27,>=1.21.1 in c:\\users\\justin payan\\anaconda3\\lib\\site-packages (from requests>=2.18.4->openreview-py) (1.26.11)\n",
      "Requirement already satisfied: certifi>=2017.4.17 in c:\\users\\justin payan\\anaconda3\\lib\\site-packages (from requests>=2.18.4->openreview-py) (2022.9.14)\n",
      "Requirement already satisfied: idna<4,>=2.5 in c:\\users\\justin payan\\anaconda3\\lib\\site-packages (from requests>=2.18.4->openreview-py) (3.3)\n",
      "Requirement already satisfied: wrapt<2,>=1.10 in c:\\users\\justin payan\\anaconda3\\lib\\site-packages (from Deprecated->openreview-py) (1.14.1)\n",
      "Requirement already satisfied: colorama in c:\\users\\justin payan\\anaconda3\\lib\\site-packages (from tqdm->openreview-py) (0.4.5)\n"
     ]
    }
   ],
   "source": [
    "!pip install openreview-py pandas matplotlib seaborn"
   ]
  },
  {
   "cell_type": "code",
   "execution_count": 2,
   "id": "c33e8709",
   "metadata": {},
   "outputs": [],
   "source": [
    "from collections import defaultdict, deque, Counter\n",
    "\n",
    "import openreview\n",
    "import io\n",
    "import os\n",
    "import json\n",
    "import statistics\n",
    "import seaborn as sns\n",
    "import matplotlib.pyplot as plt\n",
    "import pandas as pd\n",
    "import numpy as np"
   ]
  },
  {
   "cell_type": "code",
   "execution_count": 2,
   "id": "c415fd30",
   "metadata": {},
   "outputs": [],
   "source": [
    "guest_client = openreview.Client(baseurl='https://api.openreview.net')\n",
    "submissions = openreview.tools.iterget_notes(\n",
    "        guest_client, invitation='ICLR.cc/2021/Conference/-/Blind_Submission')\n",
    "submissions_by_forum = {n.forum: n for n in submissions}\n",
    "# print(submissions_by_forum)"
   ]
  },
  {
   "cell_type": "code",
   "execution_count": null,
   "id": "7b97facf",
   "metadata": {},
   "outputs": [],
   "source": [
    "print(len(submissions_by_forum))\n",
    "print(list(submissions_by_forum.keys())[:5])\n",
    "print(submissions_by_forum['73WTGs96kho'].content['authorids'])\n",
    "print(submissions_by_forum['73WTGs96kho'].content['keywords'])"
   ]
  },
  {
   "cell_type": "code",
   "execution_count": null,
   "id": "54249d7f",
   "metadata": {},
   "outputs": [],
   "source": [
    "guest_client = openreview.Client(baseurl='https://api.openreview.net')\n",
    "submissions = openreview.tools.iterget_notes(\n",
    "        guest_client, invitation='ICLR.cc/2020/Conference/-/Blind_Submission')\n",
    "submissions_by_forum = {n.forum: n for n in submissions}\n",
    "print(len(submissions_by_forum))"
   ]
  },
  {
   "cell_type": "code",
   "execution_count": null,
   "id": "9166863f",
   "metadata": {},
   "outputs": [],
   "source": [
    "guest_client = openreview.Client(baseurl='https://api.openreview.net')\n",
    "submissions = openreview.tools.iterget_notes(\n",
    "        guest_client, invitation='ICLR.cc/2019/Conference/-/Blind_Submission')\n",
    "submissions_by_forum = {n.forum: n for n in submissions}\n",
    "print(len(submissions_by_forum))"
   ]
  },
  {
   "cell_type": "code",
   "execution_count": null,
   "id": "4269c6d1",
   "metadata": {},
   "outputs": [],
   "source": [
    "guest_client = openreview.Client(baseurl='https://api.openreview.net')\n",
    "submissions = openreview.tools.iterget_notes(\n",
    "        guest_client, invitation='ICLR.cc/2018/Conference/-/Blind_Submission')\n",
    "submissions_by_forum = {n.forum: n for n in submissions}\n",
    "print(len(submissions_by_forum))"
   ]
  },
  {
   "cell_type": "code",
   "execution_count": null,
   "id": "761be77d",
   "metadata": {},
   "outputs": [],
   "source": [
    "guest_client = openreview.Client(baseurl='https://api.openreview.net')\n",
    "submissions = openreview.tools.iterget_notes(\n",
    "        guest_client, invitation='ICLR.cc/2018/Conference/-/Blind_Submission')\n",
    "submissions_by_forum = {n.forum: n for n in submissions}\n",
    "print(len(submissions_by_forum))"
   ]
  },
  {
   "cell_type": "code",
   "execution_count": null,
   "id": "3150bd3a",
   "metadata": {},
   "outputs": [],
   "source": [
    "print(submissions_by_forum['ryBnUWb0b'])"
   ]
  },
  {
   "cell_type": "code",
   "execution_count": 3,
   "id": "df5bd05d",
   "metadata": {},
   "outputs": [],
   "source": [
    "reviewer_keywords = {}\n",
    "paper_keywords = {}\n",
    "\n",
    "for year in range(2018, 2023):\n",
    "    submissions = openreview.tools.iterget_notes(\n",
    "        guest_client, invitation='ICLR.cc/%d/Conference/-/Blind_Submission' % year)\n",
    "    submissions_by_forum = {n.forum: n for n in submissions}\n",
    "    \n",
    "    # Collect keywords for each paper\n",
    "    paper_keywords[year] = {}\n",
    "    for paper_id in submissions_by_forum:\n",
    "        paper_keywords[year][paper_id] = [kw.lower() for kw in submissions_by_forum[paper_id].content['keywords']]\n",
    "        \n",
    "    # Collect keywords for each reviewer\n",
    "    reviewer_keywords[year] = {}\n",
    "    for paper_id in submissions_by_forum:\n",
    "        kws = Counter([kw.lower() for kw in submissions_by_forum[paper_id].content['keywords']])\n",
    "        for reviewer_id in submissions_by_forum[paper_id].content['authors']:\n",
    "            if reviewer_id in reviewer_keywords[year]:\n",
    "                reviewer_keywords[year][reviewer_id] += kws\n",
    "            else:\n",
    "                reviewer_keywords[year][reviewer_id] = kws"
   ]
  },
  {
   "cell_type": "code",
   "execution_count": 4,
   "id": "0479aa9e",
   "metadata": {},
   "outputs": [],
   "source": [
    "# Represent each reviewer as the collection of keywords from papers they wrote in this and previous ICLR conferences.\n",
    "combined_reviewer_keywords = {}\n",
    "for year in range(2018, 2023):\n",
    "    combined_reviewer_keywords[year] = {reviewer_id: Counter() for reviewer_id in reviewer_keywords[year]}\n",
    "    for prev_year in range(2018, year+1):\n",
    "        for reviewer_id in combined_reviewer_keywords[year]:\n",
    "            if reviewer_id in reviewer_keywords[prev_year]:\n",
    "                combined_reviewer_keywords[year][reviewer_id] += reviewer_keywords[prev_year][reviewer_id]"
   ]
  },
  {
   "cell_type": "code",
   "execution_count": null,
   "id": "68987451",
   "metadata": {},
   "outputs": [],
   "source": [
    "((combined_reviewer_keywords[2018].keys() & combined_reviewer_keywords[2019].keys()) & combined_reviewer_keywords[2020].keys()) & combined_reviewer_keywords[2021].keys()"
   ]
  },
  {
   "cell_type": "code",
   "execution_count": null,
   "id": "bbf0beac",
   "metadata": {},
   "outputs": [],
   "source": [
    "len(combined_reviewer_keywords[2021].keys() & combined_reviewer_keywords[2022].keys())"
   ]
  },
  {
   "cell_type": "code",
   "execution_count": null,
   "id": "49daf79a",
   "metadata": {},
   "outputs": [],
   "source": [
    "combined_reviewer_keywords[2022]['Aaron Courville']"
   ]
  },
  {
   "cell_type": "code",
   "execution_count": 5,
   "id": "5ac8778e",
   "metadata": {},
   "outputs": [
    {
     "data": {
      "text/plain": [
       "Counter({'generative models': 3,\n",
       "         'hierarchical models': 1,\n",
       "         'latent variable models': 1,\n",
       "         'variational inference': 1,\n",
       "         'bayesian inference': 1,\n",
       "         'deep networks': 1,\n",
       "         'language model': 1,\n",
       "         'unsupervised parsing': 1,\n",
       "         'generative': 1,\n",
       "         'hierarchical': 1,\n",
       "         'unsupervised': 2,\n",
       "         'semisupervised': 1,\n",
       "         'latent': 1,\n",
       "         'ali': 1,\n",
       "         'gan': 1,\n",
       "         'representation learning': 2,\n",
       "         'auto-encoders': 1,\n",
       "         '3d point clouds': 1,\n",
       "         'gans': 2,\n",
       "         'gaussian mixture models': 1,\n",
       "         'adaptive optimizer': 1,\n",
       "         'momentum': 1,\n",
       "         'hyperparameter tuning': 1,\n",
       "         'probability distillation': 1,\n",
       "         'autoregressive models': 1,\n",
       "         'normalizing flows': 1,\n",
       "         'wavenet': 1,\n",
       "         'pixelcnn': 1,\n",
       "         'image-to-image': 1,\n",
       "         'translation': 1,\n",
       "         'generation': 1,\n",
       "         'adversarial': 1,\n",
       "         'learning': 1,\n",
       "         'multi task': 1,\n",
       "         'transfer learning': 1,\n",
       "         'hierarchical bayes': 1,\n",
       "         'variational bayes': 1,\n",
       "         'meta learning': 1,\n",
       "         'few shot learning': 1,\n",
       "         'systematic generalization': 1,\n",
       "         'language understanding': 1,\n",
       "         'visual questions answering': 1,\n",
       "         'neural module networks': 1,\n",
       "         'generative model': 1,\n",
       "         'adversarial learning': 1,\n",
       "         'implicit 3d generation': 1,\n",
       "         'scene generation': 1,\n",
       "         'optimal transportation': 1,\n",
       "         'deep learning': 2,\n",
       "         'generative adversarial networks': 1,\n",
       "         'wasserstein distance': 1,\n",
       "         'deep learning theory': 1,\n",
       "         'fourier analysis': 1,\n",
       "         'energy based model': 1,\n",
       "         'mcmc': 1,\n",
       "         'natural language processing': 1,\n",
       "         'recurrent neural networks': 1,\n",
       "         'language modeling': 1,\n",
       "         'regularizer': 1,\n",
       "         'supervised learning': 1,\n",
       "         'semi-supervised learning': 1,\n",
       "         'better representation learning': 1,\n",
       "         'deep neural networks.': 1,\n",
       "         'learning dynamics': 1,\n",
       "         'gradient descent': 1,\n",
       "         'classification': 1,\n",
       "         'optimization': 1,\n",
       "         'cross-entropy': 1,\n",
       "         'hinge loss': 1,\n",
       "         'implicit regularization': 1,\n",
       "         'gradient starvation': 1})"
      ]
     },
     "execution_count": 5,
     "metadata": {},
     "output_type": "execute_result"
    }
   ],
   "source": [
    "combined_reviewer_keywords[2019]['Aaron Courville']"
   ]
  },
  {
   "cell_type": "code",
   "execution_count": null,
   "id": "a7e41894",
   "metadata": {},
   "outputs": [],
   "source": [
    "combined_reviewer_keywords[2020]['David Blei']"
   ]
  },
  {
   "cell_type": "code",
   "execution_count": null,
   "id": "662358d5",
   "metadata": {},
   "outputs": [],
   "source": [
    "sorted(combined_reviewer_keywords[2022].keys())[1500:7000]"
   ]
  },
  {
   "cell_type": "code",
   "execution_count": 6,
   "id": "20ba9709",
   "metadata": {},
   "outputs": [
    {
     "name": "stdout",
     "output_type": "stream",
     "text": [
      "2018\n",
      "0.0\n",
      "0.18102824040550325\n",
      "0.3620564808110065\n",
      "0.5430847212165097\n",
      "0.724112961622013\n",
      "0.9051412020275162\n",
      "2019\n",
      "0.0\n",
      "0.1144950767117014\n",
      "0.2289901534234028\n",
      "0.3434852301351042\n",
      "0.4579803068468056\n",
      "0.572475383558507\n",
      "0.6869704602702084\n",
      "0.8014655369819098\n",
      "0.9159606136936111\n",
      "2020\n",
      "0.0\n",
      "0.07275902211874273\n",
      "0.14551804423748546\n",
      "0.21827706635622818\n",
      "0.2910360884749709\n",
      "0.3637951105937136\n",
      "0.43655413271245636\n",
      "0.5093131548311991\n",
      "0.5820721769499418\n",
      "0.6548311990686845\n",
      "0.7275902211874272\n",
      "0.80034924330617\n",
      "0.8731082654249127\n",
      "0.9458672875436555\n",
      "2021\n",
      "0.0\n",
      "0.06435006435006435\n",
      "0.1287001287001287\n",
      "0.19305019305019305\n",
      "0.2574002574002574\n",
      "0.32175032175032175\n",
      "0.3861003861003861\n",
      "0.45045045045045046\n",
      "0.5148005148005148\n",
      "0.5791505791505791\n",
      "0.6435006435006435\n",
      "0.7078507078507078\n",
      "0.7722007722007722\n",
      "0.8365508365508365\n",
      "0.9009009009009009\n",
      "0.9652509652509652\n",
      "2022\n",
      "0.0\n",
      "0.05972288580984233\n",
      "0.11944577161968466\n",
      "0.179168657429527\n",
      "0.23889154323936931\n",
      "0.29861442904921165\n",
      "0.358337314859054\n",
      "0.4180602006688963\n",
      "0.47778308647873863\n",
      "0.537505972288581\n",
      "0.5972288580984233\n",
      "0.6569517439082656\n",
      "0.716674629718108\n",
      "0.7763975155279503\n",
      "0.8361204013377926\n",
      "0.895843287147635\n",
      "0.9555661729574773\n"
     ]
    }
   ],
   "source": [
    "for year in range(2018, 2023):\n",
    "    print(year)\n",
    "    revs_this_year = sorted(combined_reviewer_keywords[year])\n",
    "    papers_this_year = sorted(paper_keywords[year])\n",
    "    \n",
    "    m = len(combined_reviewer_keywords[year])\n",
    "    n = len(paper_keywords[year])\n",
    "    scores_mu = np.zeros((m, n))\n",
    "    scores_sigma = np.zeros((m, n))\n",
    "    for r_idx, rev in enumerate(revs_this_year):\n",
    "        if r_idx % 500 == 0:\n",
    "            print(r_idx/m)\n",
    "        for p_idx, pap in enumerate(papers_this_year):\n",
    "            # Compute the score and variance for this reviewer-paper pair\n",
    "            rev_kws = combined_reviewer_keywords[year][rev]\n",
    "            pap_kws = paper_keywords[year][pap]\n",
    "            \n",
    "            if not len(rev_kws) or not len(pap_kws):\n",
    "                scores_mu[r_idx, p_idx] = 0.5\n",
    "                scores_sigma[r_idx, p_idx] = 0.25\n",
    "            else:\n",
    "                # Convert the max reviewer keyword count to 1 and the min count to 0.2.\n",
    "                scaled_rev_kws = {}\n",
    "                max_reviewer_kw_ct = sorted(rev_kws.values())[-1]\n",
    "                min_reviewer_kw_ct = sorted(rev_kws.values())[0]\n",
    "                new_scores = np.linspace(.2, 1, max_reviewer_kw_ct - min_reviewer_kw_ct + 1)\n",
    "                for kw, old_ct in rev_kws.items():\n",
    "                    scaled_rev_kws[kw] = new_scores[old_ct-min_reviewer_kw_ct]\n",
    "                # Score the match (mean)\n",
    "                scores_achieved = []\n",
    "                for kw in pap_kws:\n",
    "                    if kw in scaled_rev_kws:\n",
    "                        scores_achieved.append(scaled_rev_kws[kw])\n",
    "                score_mean = 0\n",
    "                for idx, s in enumerate(sorted(scores_achieved, key=lambda x: -x)):\n",
    "                    score_mean += s*(0.5**idx)\n",
    "                max_score = 0\n",
    "                for idx, s in enumerate([1]*len(pap_kws)):\n",
    "                    max_score += s*(0.5**idx)\n",
    "                score_mean /= max_score\n",
    "                scores_mu[r_idx, p_idx] = score_mean\n",
    "                # Get the variance of the match\n",
    "                scores_sigma[r_idx, p_idx] = (1/len(pap_kws)) * (1/len(rev_kws))\n",
    "    np.save('scores_mu_iclr_%d' % year, scores_mu)\n",
    "    np.save('scores_sigma_iclr_%d' % year, scores_sigma)"
   ]
  },
  {
   "cell_type": "code",
   "execution_count": 3,
   "id": "543b3518",
   "metadata": {},
   "outputs": [
    {
     "ename": "FileNotFoundError",
     "evalue": "[Errno 2] No such file or directory: 'scores_mu_iclr_2018.npy'",
     "output_type": "error",
     "traceback": [
      "\u001b[1;31m---------------------------------------------------------------------------\u001b[0m",
      "\u001b[1;31mFileNotFoundError\u001b[0m                         Traceback (most recent call last)",
      "\u001b[1;32m~\\AppData\\Local\\Temp\\ipykernel_22756\\1149042897.py\u001b[0m in \u001b[0;36m<module>\u001b[1;34m\u001b[0m\n\u001b[1;32m----> 1\u001b[1;33m \u001b[0mx\u001b[0m \u001b[1;33m=\u001b[0m \u001b[0mnp\u001b[0m\u001b[1;33m.\u001b[0m\u001b[0mload\u001b[0m\u001b[1;33m(\u001b[0m\u001b[1;34m\"scores_mu_iclr_2018.npy\"\u001b[0m\u001b[1;33m)\u001b[0m\u001b[1;33m\u001b[0m\u001b[1;33m\u001b[0m\u001b[0m\n\u001b[0m\u001b[0;32m      2\u001b[0m \u001b[0my\u001b[0m \u001b[1;33m=\u001b[0m \u001b[0mnp\u001b[0m\u001b[1;33m.\u001b[0m\u001b[0mload\u001b[0m\u001b[1;33m(\u001b[0m\u001b[1;34m\"scores_sigma_iclr_2018.npy\"\u001b[0m\u001b[1;33m)\u001b[0m\u001b[1;33m\u001b[0m\u001b[1;33m\u001b[0m\u001b[0m\n",
      "\u001b[1;32m~\\anaconda3\\lib\\site-packages\\numpy\\lib\\npyio.py\u001b[0m in \u001b[0;36mload\u001b[1;34m(file, mmap_mode, allow_pickle, fix_imports, encoding)\u001b[0m\n\u001b[0;32m    415\u001b[0m             \u001b[0mown_fid\u001b[0m \u001b[1;33m=\u001b[0m \u001b[1;32mFalse\u001b[0m\u001b[1;33m\u001b[0m\u001b[1;33m\u001b[0m\u001b[0m\n\u001b[0;32m    416\u001b[0m         \u001b[1;32melse\u001b[0m\u001b[1;33m:\u001b[0m\u001b[1;33m\u001b[0m\u001b[1;33m\u001b[0m\u001b[0m\n\u001b[1;32m--> 417\u001b[1;33m             \u001b[0mfid\u001b[0m \u001b[1;33m=\u001b[0m \u001b[0mstack\u001b[0m\u001b[1;33m.\u001b[0m\u001b[0menter_context\u001b[0m\u001b[1;33m(\u001b[0m\u001b[0mopen\u001b[0m\u001b[1;33m(\u001b[0m\u001b[0mos_fspath\u001b[0m\u001b[1;33m(\u001b[0m\u001b[0mfile\u001b[0m\u001b[1;33m)\u001b[0m\u001b[1;33m,\u001b[0m \u001b[1;34m\"rb\"\u001b[0m\u001b[1;33m)\u001b[0m\u001b[1;33m)\u001b[0m\u001b[1;33m\u001b[0m\u001b[1;33m\u001b[0m\u001b[0m\n\u001b[0m\u001b[0;32m    418\u001b[0m             \u001b[0mown_fid\u001b[0m \u001b[1;33m=\u001b[0m \u001b[1;32mTrue\u001b[0m\u001b[1;33m\u001b[0m\u001b[1;33m\u001b[0m\u001b[0m\n\u001b[0;32m    419\u001b[0m \u001b[1;33m\u001b[0m\u001b[0m\n",
      "\u001b[1;31mFileNotFoundError\u001b[0m: [Errno 2] No such file or directory: 'scores_mu_iclr_2018.npy'"
     ]
    }
   ],
   "source": [
    "x = np.load(\"scores_mu_iclr_2018.npy\")\n",
    "y = np.load(\"scores_sigma_iclr_2018.npy\")"
   ]
  },
  {
   "cell_type": "code",
   "execution_count": null,
   "id": "8f9f7c27",
   "metadata": {},
   "outputs": [],
   "source": []
  }
 ],
 "metadata": {
  "kernelspec": {
   "display_name": "Python 3 (ipykernel)",
   "language": "python",
   "name": "python3"
  },
  "language_info": {
   "codemirror_mode": {
    "name": "ipython",
    "version": 3
   },
   "file_extension": ".py",
   "mimetype": "text/x-python",
   "name": "python",
   "nbconvert_exporter": "python",
   "pygments_lexer": "ipython3",
   "version": "3.9.13"
  }
 },
 "nbformat": 4,
 "nbformat_minor": 5
}
